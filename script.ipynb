{
 "cells": [
  {
   "cell_type": "markdown",
   "id": "aac9f0be",
   "metadata": {},
   "source": [
    "# Uso avanzado de bases de datos NoSQL\n"
   ]
  },
  {
   "cell_type": "code",
   "execution_count": 49,
   "id": "a584fed7",
   "metadata": {},
   "outputs": [
    {
     "name": "stdout",
     "output_type": "stream",
     "text": [
      "{'_id': 7, 'inspeccionar': False}\n",
      "{'_id': 32, 'inspeccionar': False}\n",
      "{'_id': 33, 'inspeccionar': False}\n",
      "{'_id': 34}\n",
      "{'_id': 36}\n"
     ]
    }
   ],
   "source": [
    "from pymongo import MongoClient\n",
    "\n",
    "# Conexión al servidor local\n",
    "client = MongoClient('localhost', 27017)\n",
    "\n",
    "# Selección de la base de datos\n",
    "db = client['localesMadrid']\n",
    "# Selección de la colección\n",
    "collection = db['madridDbLocalesB']\n",
    "\n",
    "cursor = collection.find({},{'inspeccionar':1}).limit(5)\n",
    "\n",
    "for doc in cursor:\n",
    "    print(doc)\n"
   ]
  },
  {
   "cell_type": "markdown",
   "id": "dd0ceb5d",
   "metadata": {},
   "source": [
    "#### 1.\tLos locales del barrio Guindalera de Salamanca, por motivos de la desescalada, no podrán abrir y tendrán que permanecer cerrados. Cambiad la situación del local a Cerrado utilizando el id correspondiente. Recordad que debéis constatar los tipos de situaciones que existan y seguir con la misma codificación. A estos mismos locales, cambiad la situación de la terraza a cerrada siguiendo las mismas premisas anteriores."
   ]
  },
  {
   "cell_type": "code",
   "execution_count": 50,
   "id": "da184ded",
   "metadata": {},
   "outputs": [
    {
     "name": "stdout",
     "output_type": "stream",
     "text": [
      "{'_id': 33, 'id_local': 270403150, 'id_distrito_local': 4, 'desc_distrito_local': 'SALAMANCA', 'desc_barrio_local': 'GUINDALERA', 'clase_vial_edificio': 'AVENIDA', 'num_edificio': 2, 'Cod_Postal': 28028, 'coordenada_x_local': '442586,58', 'coordenada_y_local': '4476524,51', 'desc_situacion_local': 'Cerrado', 'Nombre': 'HONTANARES', 'id_periodo_terraza': 1, 'desc_periodo_terraza': 'Anual', 'id_situacion_terraza': 8, 'desc_situacion_terraza': 'Cerrada', 'Superficie_ES': '21,06', 'DESC_CLASE': 'AVENIDA', 'DESC_NOMBRE': 'AMERICA', 'num_terraza': 2, 'cal_terraza': '', 'desc_ubicacion_terraza': 'Acera', 'hora_ini_LJ_es': '10:00:00', 'hora_fin_LJ_es': '1:00:00', 'hora_ini_LJ_ra': '10:00:00', 'hora_fin_LJ_ra': '0:00:00', 'hora_ini_VS_es': '10:00:00', 'hora_fin_VS_es': '2:30:00', 'hora_ini_VS_ra': '10:00:00', 'hora_fin_VS_ra': '0:00:00', 'mesas_aux_es': 0, 'mesas_aux_ra': 0, 'mesas_es': 9, 'mesas_ra': 9, 'sillas_es': 27, 'sillas_ra': 0, 'inspeccionar': False}\n",
      "{'_id': 34, 'id_local': 270078567, 'id_distrito_local': 4, 'desc_distrito_local': 'SALAMANCA', 'desc_barrio_local': 'GUINDALERA', 'clase_vial_edificio': 'CALLE', 'num_edificio': 25, 'Cod_Postal': 28028, 'coordenada_x_local': '442986,58', 'coordenada_y_local': '4476379,5', 'desc_situacion_local': 'Cerrado', 'Nombre': 'BAR MARISQUERIA LUIS', 'id_periodo_terraza': 1, 'desc_periodo_terraza': 'Anual', 'id_situacion_terraza': 8, 'desc_situacion_terraza': 'Cerrada', 'Superficie_ES': '11,16', 'DESC_CLASE': 'CALLE', 'DESC_NOMBRE': 'ALONSO HEREDIA', 'num_terraza': 25, 'cal_terraza': '', 'desc_ubicacion_terraza': 'Calle peatonal', 'hora_ini_LJ_es': '10:00:00', 'hora_fin_LJ_es': '1:00:00', 'hora_ini_LJ_ra': '10:00:00', 'hora_fin_LJ_ra': '0:00:00', 'hora_ini_VS_es': '10:00:00', 'hora_fin_VS_es': '2:30:00', 'hora_ini_VS_ra': '10:00:00', 'hora_fin_VS_ra': '0:00:00', 'mesas_aux_es': 0, 'mesas_aux_ra': 0, 'mesas_es': 4, 'mesas_ra': 0, 'sillas_es': 14, 'sillas_ra': 0}\n",
      "{'_id': 36, 'id_local': 40002021, 'id_distrito_local': 4, 'desc_distrito_local': 'SALAMANCA', 'desc_barrio_local': 'GUINDALERA', 'clase_vial_edificio': 'CALLE', 'num_edificio': 10, 'Cod_Postal': 28028, 'coordenada_x_local': '442972,58', 'coordenada_y_local': '4476350,5', 'desc_situacion_local': 'Cerrado', 'Nombre': 'SAGAR', 'id_periodo_terraza': 2, 'desc_periodo_terraza': 'Estacional', 'id_situacion_terraza': 8, 'desc_situacion_terraza': 'Cerrada', 'Superficie_ES': '7,2', 'DESC_CLASE': 'CALLE', 'DESC_NOMBRE': 'ALONSO HEREDIA', 'num_terraza': 22, 'cal_terraza': '', 'desc_ubicacion_terraza': 'Calle peatonal', 'hora_ini_LJ_es': '10:00:00', 'hora_fin_LJ_es': '0:00:00', 'hora_ini_LJ_ra': '', 'hora_fin_LJ_ra': '', 'hora_ini_VS_es': '10:00:00', 'hora_fin_VS_es': '0:00:00', 'hora_ini_VS_ra': '', 'hora_fin_VS_ra': '', 'mesas_aux_es': 0, 'mesas_aux_ra': '', 'mesas_es': 5, 'mesas_ra': '', 'sillas_es': 10, 'sillas_ra': 0}\n",
      "{'_id': 44, 'id_local': 40001459, 'id_distrito_local': 4, 'desc_distrito_local': 'SALAMANCA', 'desc_barrio_local': 'GUINDALERA', 'clase_vial_edificio': 'AVENIDA', 'num_edificio': 32, 'Cod_Postal': 28028, 'coordenada_x_local': '442926,58', 'coordenada_y_local': '4476681,5', 'desc_situacion_local': 'Cerrado', 'Nombre': 'HOTEL ABBA MADRID', 'id_periodo_terraza': 2, 'desc_periodo_terraza': 'Estacional', 'id_situacion_terraza': 8, 'desc_situacion_terraza': 'Cerrada', 'Superficie_ES': '19,44', 'DESC_CLASE': 'AVENIDA', 'DESC_NOMBRE': 'AMERICA', 'num_terraza': 32, 'cal_terraza': '', 'desc_ubicacion_terraza': 'Acera', 'hora_ini_LJ_es': '10:00:00', 'hora_fin_LJ_es': '1:00:00', 'hora_ini_LJ_ra': '', 'hora_fin_LJ_ra': '', 'hora_ini_VS_es': '10:00:00', 'hora_fin_VS_es': '2:30:00', 'hora_ini_VS_ra': '', 'hora_fin_VS_ra': '', 'mesas_aux_es': 0, 'mesas_aux_ra': '', 'mesas_es': 6, 'mesas_ra': '', 'sillas_es': 24, 'sillas_ra': 0, 'inspeccionar': False}\n",
      "{'_id': 51, 'id_local': 270076142, 'id_distrito_local': 4, 'desc_distrito_local': 'SALAMANCA', 'desc_barrio_local': 'GUINDALERA', 'clase_vial_edificio': 'CALLE', 'num_edificio': 225, 'Cod_Postal': 28028, 'coordenada_x_local': '443565,58', 'coordenada_y_local': '4475688,49', 'desc_situacion_local': 'Cerrado', 'Nombre': 'EL NUEVO RINC?N DE JA?N', 'id_periodo_terraza': 2, 'desc_periodo_terraza': 'Estacional', 'id_situacion_terraza': 8, 'desc_situacion_terraza': 'Cerrada', 'Superficie_ES': '32,98', 'DESC_CLASE': 'CALLE', 'DESC_NOMBRE': 'ALCALA', 'num_terraza': 225, 'cal_terraza': '', 'desc_ubicacion_terraza': 'Acera', 'hora_ini_LJ_es': '8:00:00', 'hora_fin_LJ_es': '1:30:00', 'hora_ini_LJ_ra': '', 'hora_fin_LJ_ra': '', 'hora_ini_VS_es': '8:00:00', 'hora_fin_VS_es': '1:30:00', 'hora_ini_VS_ra': '', 'hora_fin_VS_ra': '', 'mesas_aux_es': 0, 'mesas_aux_ra': '', 'mesas_es': 36, 'mesas_ra': 22, 'sillas_es': 123, 'sillas_ra': 0, 'inspeccionar': True}\n"
     ]
    }
   ],
   "source": [
    "filtro = {\"desc_distrito_local\": \"SALAMANCA\", 'desc_barrio_local':'GUINDALERA'}\n",
    "# Actualización: cambiar estado del local (solo descripción) y de la terraza (id = 8)\n",
    "nuevos_valores = {\n",
    "    \"$set\": {\n",
    "        \"desc_situacion_local\": \"Cerrado\",\n",
    "        \"id_situacion_terraza\": 8,        \n",
    "        \"desc_situacion_terraza\": \"Cerrada\"\n",
    "    }\n",
    "}\n",
    "\n",
    "resultado = collection.update_many(filtro, nuevos_valores)\n",
    "\n",
    "cursor = collection.find(filtro).limit(5)\n",
    "\n",
    "for doc in cursor:\n",
    "    print(doc)"
   ]
  },
  {
   "cell_type": "markdown",
   "id": "9d0e9694",
   "metadata": {},
   "source": []
  },
  {
   "cell_type": "markdown",
   "id": "c55257d5",
   "metadata": {},
   "source": [
    "\n",
    "2.\tA todas las terrazas que se ubiquen en la acera, añadid un campo llamado inspeccionar y estableced el siguiente valor:\n",
    "Si dispone de más de 10 mesas, true.\n",
    "Si dispone de menos de 10 mesas, false.\n"
   ]
  },
  {
   "cell_type": "code",
   "execution_count": 51,
   "id": "e21a910f",
   "metadata": {},
   "outputs": [
    {
     "name": "stdout",
     "output_type": "stream",
     "text": [
      "Documentos modificados: 0\n"
     ]
    }
   ],
   "source": [
    "filtro_2 = {'desc_ubicacion_terraza': 'Acera'}\n",
    "\n",
    "update_2 = [\n",
    "    {\n",
    "        \"$set\": {\n",
    "            \"inspeccionar\": {\n",
    "                \"$cond\": {\n",
    "                    \"if\": {\"$gt\": [\"$mesas_es\", 10]},  # si mesas_es > 10\n",
    "                    \"then\": True,                # entonces\n",
    "                    \"else\": False             # sino\n",
    "                }\n",
    "            }\n",
    "        }\n",
    "    }\n",
    "]\n",
    "\n",
    "# Aplicar update_many\n",
    "resultado = collection.update_many(filtro_2, update_2)\n",
    "print(\"Documentos modificados:\", resultado.modified_count)\n",
    "\n",
    "\n"
   ]
  },
  {
   "cell_type": "code",
   "execution_count": 58,
   "id": "1aeea7b8",
   "metadata": {},
   "outputs": [
    {
     "name": "stdout",
     "output_type": "stream",
     "text": [
      "{'_id': 7, 'mesas_es': 5, 'inspeccionar': False}\n",
      "{'_id': 32, 'mesas_es': 10, 'inspeccionar': False}\n",
      "{'_id': 33, 'mesas_es': 9, 'inspeccionar': False}\n",
      "{'_id': 40, 'mesas_es': 8, 'inspeccionar': False}\n",
      "{'_id': 41, 'mesas_es': 6, 'inspeccionar': False}\n"
     ]
    }
   ],
   "source": [
    "cursor = collection.find(filtro_2, {\"_id\": 1, \"mesas_es\": 1, \"inspeccionar\": 1}).limit(5)\n",
    "\n",
    "for doc in cursor:\n",
    "    print(doc)"
   ]
  },
  {
   "cell_type": "markdown",
   "id": "352ebacc",
   "metadata": {},
   "source": [
    "3.\tA las terrazas que se deban inspeccionar, añadid 2 mesas más auxiliares y 8 sillas más disponibles (tanto en período estacional como el resto del año)."
   ]
  },
  {
   "cell_type": "code",
   "execution_count": 56,
   "id": "8e36eac9",
   "metadata": {},
   "outputs": [
    {
     "name": "stdout",
     "output_type": "stream",
     "text": [
      "Documentos modificados: 750\n",
      "{'_id': 51, 'mesas_es': 18, 'mesas_ra': 4, 'sillas_es': 51}\n",
      "{'_id': 67, 'mesas_es': 14, 'mesas_ra': 14, 'sillas_es': 55}\n",
      "{'_id': 73, 'mesas_es': 32, 'mesas_ra': 32, 'sillas_es': 128}\n",
      "{'_id': 78, 'mesas_es': 13, 'mesas_ra': 2, 'sillas_es': 52}\n",
      "{'_id': 80, 'mesas_es': 18, 'mesas_ra': 12, 'sillas_es': 64}\n"
     ]
    }
   ],
   "source": [
    "\n",
    "\n",
    "# Contador de documentos modificados\n",
    "modificados = 0\n",
    "\n",
    "# Iterar sobre todas las terrazas que se deben inspeccionar\n",
    "for doc in collection.find({\"inspeccionar\": True}):\n",
    "    # Asegurarse de que los campos sean números; si no existen o son None, poner 0\n",
    "    mesas_es = int(doc.get(\"mesas_es\") or 0)\n",
    "    mesas_ra = int(doc.get(\"mesas_ra\") or 0)\n",
    "    sillas_es = int(doc.get(\"sillas_es\") or 0)\n",
    "    \n",
    "    # Actualizar sumando mesas y sillas\n",
    "    resultado = collection.update_one(\n",
    "        {\"_id\": doc[\"_id\"]},\n",
    "        {\"$set\": {\n",
    "            \"mesas_es\": mesas_es +2 ,\n",
    "            \"mesas_ra\": mesas_ra +2,\n",
    "            \"sillas_es\": sillas_es +8\n",
    "        }}\n",
    "    )\n",
    "    \n",
    "    if resultado.modified_count > 0:\n",
    "        modificados += 1\n",
    "\n",
    "print(\"Documentos modificados:\", modificados)\n",
    "\n",
    "# Mostrar 5 documentos actualizados como verificación\n",
    "cursor = collection.find(\n",
    "    {\"inspeccionar\": True},\n",
    "    {\"_id\": 1, \"mesas_es\": 1, \"mesas_ra\":1, \"sillas_es\":1}\n",
    ").limit(5)\n",
    "\n",
    "for doc in cursor:\n",
    "    print(doc)\n",
    "\n"
   ]
  },
  {
   "cell_type": "markdown",
   "id": "d30045f3",
   "metadata": {},
   "source": [
    "#### 4.\tA las terrazas que no deban ser inspeccionadas, añadid el campo estado con el valor:\n",
    "#### 1 si el número de sillas es menor que 10.\n",
    "#### 2 si el número de sillas está entre 10 y 20.\n",
    "#### 3 si cuenta con más de 20 sillas."
   ]
  },
  {
   "cell_type": "code",
   "execution_count": null,
   "id": "888a0958",
   "metadata": {},
   "outputs": [],
   "source": []
  }
 ],
 "metadata": {
  "kernelspec": {
   "display_name": "Python 3",
   "language": "python",
   "name": "python3"
  },
  "language_info": {
   "codemirror_mode": {
    "name": "ipython",
    "version": 3
   },
   "file_extension": ".py",
   "mimetype": "text/x-python",
   "name": "python",
   "nbconvert_exporter": "python",
   "pygments_lexer": "ipython3",
   "version": "3.13.2"
  }
 },
 "nbformat": 4,
 "nbformat_minor": 5
}
